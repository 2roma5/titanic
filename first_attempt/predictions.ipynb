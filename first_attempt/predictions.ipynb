{
 "cells": [
  {
   "cell_type": "markdown",
   "id": "31ce4e69",
   "metadata": {},
   "source": [
    "# Preproccesing"
   ]
  },
  {
   "cell_type": "code",
   "execution_count": 1,
   "id": "6bb4f15b",
   "metadata": {},
   "outputs": [],
   "source": [
    "import pandas as pd\n",
    "import numpy as np\n",
    "from sklearn.experimental import enable_iterative_imputer\n",
    "from sklearn.impute import IterativeImputer\n",
    "from sklearn.pipeline import make_pipeline\n",
    "from sklearn.compose import ColumnTransformer\n",
    "from sklearn.preprocessing import FunctionTransformer, MinMaxScaler, OrdinalEncoder, MinMaxScaler\n",
    "import joblib"
   ]
  },
  {
   "cell_type": "code",
   "execution_count": 2,
   "id": "cc0a6087",
   "metadata": {},
   "outputs": [],
   "source": [
    "def power(x):\n",
    "    return x ** 0.6"
   ]
  },
  {
   "cell_type": "code",
   "execution_count": 3,
   "id": "e7f9b52e",
   "metadata": {},
   "outputs": [],
   "source": [
    "def sum_family(X):\n",
    "   return (X[:, 0] + X[:, 1]).reshape(-1, 1)"
   ]
  },
  {
   "cell_type": "code",
   "execution_count": 4,
   "id": "28459ba8",
   "metadata": {},
   "outputs": [],
   "source": [
    "def family_feature_names_out(input_features):\n",
    "    return [\"FamilySize\"]"
   ]
  },
  {
   "cell_type": "code",
   "execution_count": 5,
   "id": "6fd49b85",
   "metadata": {},
   "outputs": [],
   "source": [
    "attributes_to_drop = ['Name', 'Ticket', 'Cabin', 'Embarked']\n",
    "attributes_to_sum = ['SibSp', 'Parch']"
   ]
  },
  {
   "cell_type": "code",
   "execution_count": 6,
   "id": "19235139",
   "metadata": {},
   "outputs": [],
   "source": [
    "age_pipeline = make_pipeline(\n",
    "    IterativeImputer(),\n",
    "    FunctionTransformer(power),\n",
    "    MinMaxScaler(feature_range=(0, 1))\n",
    ")"
   ]
  },
  {
   "cell_type": "code",
   "execution_count": 7,
   "id": "fc972e56",
   "metadata": {},
   "outputs": [],
   "source": [
    "preprocessing = ColumnTransformer([\n",
    "    (\"drop1\", \"drop\", [\"Name\", \"Ticket\", \"Cabin\", \"Embarked\"]),\n",
    "    (\"fare\", MinMaxScaler(feature_range=(0, 1)), [\"Fare\"]),\n",
    "    (\"1hotencoder\", OrdinalEncoder(), [\"Sex\"]),\n",
    "    (\"family\", FunctionTransformer(sum_family, validate=True, feature_names_out=family_feature_names_out), [\"SibSp\", \"Parch\"]),\n",
    "    (\"drop2\", \"drop\", [\"SibSp\", \"Parch\"]),\n",
    "    (\"age\", age_pipeline, [\"Age\"])\n",
    "],\n",
    "remainder='passthrough',\n",
    "force_int_remainder_cols = False)"
   ]
  },
  {
   "cell_type": "markdown",
   "id": "85f01267",
   "metadata": {},
   "source": [
    "# Predictions"
   ]
  },
  {
   "cell_type": "code",
   "execution_count": 8,
   "id": "adb71e15",
   "metadata": {},
   "outputs": [],
   "source": [
    "model_reloaded = joblib.load('random_forest.pkl')"
   ]
  },
  {
   "cell_type": "code",
   "execution_count": 9,
   "id": "9c340b5a",
   "metadata": {},
   "outputs": [],
   "source": [
    "test_data = pd.read_csv('../titanic/test.csv')"
   ]
  },
  {
   "cell_type": "code",
   "execution_count": 10,
   "id": "7ff13017",
   "metadata": {},
   "outputs": [],
   "source": [
    "passenger_id = test_data['PassengerId'].copy()\n",
    "test_data.drop('PassengerId', axis=1, inplace=True)"
   ]
  },
  {
   "cell_type": "code",
   "execution_count": 11,
   "id": "27eccfe3",
   "metadata": {},
   "outputs": [],
   "source": [
    "predictions = model_reloaded.predict(test_data)"
   ]
  },
  {
   "cell_type": "code",
   "execution_count": 12,
   "id": "f3175079",
   "metadata": {},
   "outputs": [],
   "source": [
    "predictions_df = pd.DataFrame(zip(passenger_id, predictions), columns=['PassengerId', 'Survived'])"
   ]
  },
  {
   "cell_type": "code",
   "execution_count": 13,
   "id": "e216c46a",
   "metadata": {},
   "outputs": [
    {
     "data": {
      "text/html": [
       "<div>\n",
       "<style scoped>\n",
       "    .dataframe tbody tr th:only-of-type {\n",
       "        vertical-align: middle;\n",
       "    }\n",
       "\n",
       "    .dataframe tbody tr th {\n",
       "        vertical-align: top;\n",
       "    }\n",
       "\n",
       "    .dataframe thead th {\n",
       "        text-align: right;\n",
       "    }\n",
       "</style>\n",
       "<table border=\"1\" class=\"dataframe\">\n",
       "  <thead>\n",
       "    <tr style=\"text-align: right;\">\n",
       "      <th></th>\n",
       "      <th>PassengerId</th>\n",
       "      <th>Survived</th>\n",
       "    </tr>\n",
       "  </thead>\n",
       "  <tbody>\n",
       "    <tr>\n",
       "      <th>0</th>\n",
       "      <td>892</td>\n",
       "      <td>0</td>\n",
       "    </tr>\n",
       "    <tr>\n",
       "      <th>1</th>\n",
       "      <td>893</td>\n",
       "      <td>0</td>\n",
       "    </tr>\n",
       "    <tr>\n",
       "      <th>2</th>\n",
       "      <td>894</td>\n",
       "      <td>1</td>\n",
       "    </tr>\n",
       "    <tr>\n",
       "      <th>3</th>\n",
       "      <td>895</td>\n",
       "      <td>1</td>\n",
       "    </tr>\n",
       "    <tr>\n",
       "      <th>4</th>\n",
       "      <td>896</td>\n",
       "      <td>1</td>\n",
       "    </tr>\n",
       "    <tr>\n",
       "      <th>...</th>\n",
       "      <td>...</td>\n",
       "      <td>...</td>\n",
       "    </tr>\n",
       "    <tr>\n",
       "      <th>413</th>\n",
       "      <td>1305</td>\n",
       "      <td>0</td>\n",
       "    </tr>\n",
       "    <tr>\n",
       "      <th>414</th>\n",
       "      <td>1306</td>\n",
       "      <td>1</td>\n",
       "    </tr>\n",
       "    <tr>\n",
       "      <th>415</th>\n",
       "      <td>1307</td>\n",
       "      <td>0</td>\n",
       "    </tr>\n",
       "    <tr>\n",
       "      <th>416</th>\n",
       "      <td>1308</td>\n",
       "      <td>0</td>\n",
       "    </tr>\n",
       "    <tr>\n",
       "      <th>417</th>\n",
       "      <td>1309</td>\n",
       "      <td>0</td>\n",
       "    </tr>\n",
       "  </tbody>\n",
       "</table>\n",
       "<p>418 rows × 2 columns</p>\n",
       "</div>"
      ],
      "text/plain": [
       "     PassengerId  Survived\n",
       "0            892         0\n",
       "1            893         0\n",
       "2            894         1\n",
       "3            895         1\n",
       "4            896         1\n",
       "..           ...       ...\n",
       "413         1305         0\n",
       "414         1306         1\n",
       "415         1307         0\n",
       "416         1308         0\n",
       "417         1309         0\n",
       "\n",
       "[418 rows x 2 columns]"
      ]
     },
     "execution_count": 13,
     "metadata": {},
     "output_type": "execute_result"
    }
   ],
   "source": [
    "predictions_df"
   ]
  },
  {
   "cell_type": "code",
   "execution_count": 14,
   "id": "d6eafd97",
   "metadata": {},
   "outputs": [],
   "source": [
    "predictions_df.to_csv('predictions.csv', index=False)"
   ]
  }
 ],
 "metadata": {
  "kernelspec": {
   "display_name": ".venv",
   "language": "python",
   "name": "python3"
  },
  "language_info": {
   "codemirror_mode": {
    "name": "ipython",
    "version": 3
   },
   "file_extension": ".py",
   "mimetype": "text/x-python",
   "name": "python",
   "nbconvert_exporter": "python",
   "pygments_lexer": "ipython3",
   "version": "3.13.3"
  }
 },
 "nbformat": 4,
 "nbformat_minor": 5
}
